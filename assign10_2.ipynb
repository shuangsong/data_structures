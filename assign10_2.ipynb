{
 "cells": [
  {
   "cell_type": "code",
   "execution_count": null,
   "metadata": {},
   "outputs": [],
   "source": [
    "name = raw_input(\"Enter file: \")\n",
    "if len(name) < 1 : name = \"mbox-short.txt\"\n",
    "fh = open(name)\n",
    "count = dict()\n",
    "for line in fh:\n",
    "\tif line.startswith('From '):\n",
    "\t\tline = line.split()\n",
    "\t\ttime = line[5]\n",
    "\t\ttime = time.split(':')\n",
    "\t\thour = time[0]\n",
    "\t\tcount[hour] = count.get(hour,0) + 1\n",
    "lst = list()\n",
    "for hour, c in count.items():\n",
    "\tlst.append( (hour, c) )\n",
    "lst.sort()\n",
    "for hour, c in lst:\n",
    "    print(hour, c)\n"
   ]
  }
 ],
 "metadata": {
  "kernelspec": {
   "display_name": "Python 3",
   "language": "python",
   "name": "python3"
  },
  "language_info": {
   "codemirror_mode": {
    "name": "ipython",
    "version": 3
   },
   "file_extension": ".py",
   "mimetype": "text/x-python",
   "name": "python",
   "nbconvert_exporter": "python",
   "pygments_lexer": "ipython3",
   "version": "3.7.3"
  }
 },
 "nbformat": 4,
 "nbformat_minor": 2
}
