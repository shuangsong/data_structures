{
 "cells": [
  {
   "cell_type": "code",
   "execution_count": null,
   "metadata": {},
   "outputs": [],
   "source": [
    "name = raw_input(\"Enter file: \")\n",
    "if len(name) < 1 : name = \"mbox-short.txt\"\n",
    "handle = open(name)\n",
    "count = dict()\n",
    "\n",
    "for line in handle:\n",
    "    word = line.split()\n",
    "    if line.startswith('From:'):\n",
    "        count[word[1]] = count.get(word[1], 0) + 1\n",
    "\n",
    "largest = None\n",
    "email = ''\n",
    "for key in count:\n",
    "    if  count[key] > largest:\n",
    "        largest = count[key]\n",
    "        email = key\n",
    "print(email, largest)"
   ]
  }
 ],
 "metadata": {
  "kernelspec": {
   "display_name": "Python 3",
   "language": "python",
   "name": "python3"
  },
  "language_info": {
   "codemirror_mode": {
    "name": "ipython",
    "version": 3
   },
   "file_extension": ".py",
   "mimetype": "text/x-python",
   "name": "python",
   "nbconvert_exporter": "python",
   "pygments_lexer": "ipython3",
   "version": "3.7.3"
  }
 },
 "nbformat": 4,
 "nbformat_minor": 2
}
